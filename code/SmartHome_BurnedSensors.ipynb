{
 "cells": [
  {
   "cell_type": "markdown",
   "metadata": {},
   "source": [
    "# Import libraries"
   ]
  },
  {
   "cell_type": "code",
   "execution_count": 1,
   "metadata": {},
   "outputs": [],
   "source": [
    "import pandas as pd\n",
    "import numpy as np"
   ]
  },
  {
   "cell_type": "code",
   "execution_count": 2,
   "metadata": {},
   "outputs": [
    {
     "name": "stderr",
     "output_type": "stream",
     "text": [
      "c:\\Users\\Olympic\\AppData\\Local\\Programs\\Python\\Python311\\Lib\\site-packages\\umap\\distances.py:1063: NumbaDeprecationWarning: \u001b[1mThe 'nopython' keyword argument was not supplied to the 'numba.jit' decorator. The implicit default value for this argument is currently False, but it will be changed to True in Numba 0.59.0. See https://numba.readthedocs.io/en/stable/reference/deprecation.html#deprecation-of-object-mode-fall-back-behaviour-when-using-jit for details.\u001b[0m\n",
      "  @numba.jit()\n",
      "c:\\Users\\Olympic\\AppData\\Local\\Programs\\Python\\Python311\\Lib\\site-packages\\umap\\distances.py:1071: NumbaDeprecationWarning: \u001b[1mThe 'nopython' keyword argument was not supplied to the 'numba.jit' decorator. The implicit default value for this argument is currently False, but it will be changed to True in Numba 0.59.0. See https://numba.readthedocs.io/en/stable/reference/deprecation.html#deprecation-of-object-mode-fall-back-behaviour-when-using-jit for details.\u001b[0m\n",
      "  @numba.jit()\n",
      "c:\\Users\\Olympic\\AppData\\Local\\Programs\\Python\\Python311\\Lib\\site-packages\\umap\\distances.py:1086: NumbaDeprecationWarning: \u001b[1mThe 'nopython' keyword argument was not supplied to the 'numba.jit' decorator. The implicit default value for this argument is currently False, but it will be changed to True in Numba 0.59.0. See https://numba.readthedocs.io/en/stable/reference/deprecation.html#deprecation-of-object-mode-fall-back-behaviour-when-using-jit for details.\u001b[0m\n",
      "  @numba.jit()\n",
      "c:\\Users\\Olympic\\AppData\\Local\\Programs\\Python\\Python311\\Lib\\site-packages\\tqdm\\auto.py:21: TqdmWarning: IProgress not found. Please update jupyter and ipywidgets. See https://ipywidgets.readthedocs.io/en/stable/user_install.html\n",
      "  from .autonotebook import tqdm as notebook_tqdm\n",
      "c:\\Users\\Olympic\\AppData\\Local\\Programs\\Python\\Python311\\Lib\\site-packages\\umap\\umap_.py:660: NumbaDeprecationWarning: \u001b[1mThe 'nopython' keyword argument was not supplied to the 'numba.jit' decorator. The implicit default value for this argument is currently False, but it will be changed to True in Numba 0.59.0. See https://numba.readthedocs.io/en/stable/reference/deprecation.html#deprecation-of-object-mode-fall-back-behaviour-when-using-jit for details.\u001b[0m\n",
      "  @numba.jit()\n",
      "[nltk_data] Downloading package punkt to\n",
      "[nltk_data]     C:\\Users\\Olympic\\AppData\\Roaming\\nltk_data...\n",
      "[nltk_data]   Package punkt is already up-to-date!\n",
      "[nltk_data] Downloading package stopwords to\n",
      "[nltk_data]     C:\\Users\\Olympic\\AppData\\Roaming\\nltk_data...\n",
      "[nltk_data]   Package stopwords is already up-to-date!\n"
     ]
    }
   ],
   "source": [
    "from base.preprocess_clustering import Preprocess_Clustering\n",
    "from base.plot import Plots\n",
    "from base.AnomalyDetection import AnomalyDetection"
   ]
  },
  {
   "cell_type": "code",
   "execution_count": 3,
   "metadata": {},
   "outputs": [
    {
     "name": "stdout",
     "output_type": "stream",
     "text": [
      "object created\n",
      "plotting ...\n"
     ]
    }
   ],
   "source": [
    "preprocess_clustering = Preprocess_Clustering()\n",
    "plots = Plots()\n",
    "anomalyDetection = AnomalyDetection()"
   ]
  },
  {
   "cell_type": "markdown",
   "metadata": {},
   "source": [
    "# 1. Load and Preprocess Data"
   ]
  },
  {
   "cell_type": "code",
   "execution_count": 4,
   "metadata": {},
   "outputs": [
    {
     "data": {
      "text/html": [
       "<div>\n",
       "<style scoped>\n",
       "    .dataframe tbody tr th:only-of-type {\n",
       "        vertical-align: middle;\n",
       "    }\n",
       "\n",
       "    .dataframe tbody tr th {\n",
       "        vertical-align: top;\n",
       "    }\n",
       "\n",
       "    .dataframe thead th {\n",
       "        text-align: right;\n",
       "    }\n",
       "</style>\n",
       "<table border=\"1\" class=\"dataframe\">\n",
       "  <thead>\n",
       "    <tr style=\"text-align: right;\">\n",
       "      <th></th>\n",
       "      <th>time</th>\n",
       "      <th>Command_v1</th>\n",
       "      <th>id</th>\n",
       "      <th>Source</th>\n",
       "      <th>Destination</th>\n",
       "      <th>Command_v2</th>\n",
       "      <th>Time_integer</th>\n",
       "    </tr>\n",
       "  </thead>\n",
       "  <tbody>\n",
       "    <tr>\n",
       "      <th>1</th>\n",
       "      <td>0.275</td>\n",
       "      <td>brightnessLevel:41</td>\n",
       "      <td>1</td>\n",
       "      <td>LightSensor</td>\n",
       "      <td>Controller</td>\n",
       "      <td>brightnessLevel</td>\n",
       "      <td>0</td>\n",
       "    </tr>\n",
       "    <tr>\n",
       "      <th>2</th>\n",
       "      <td>0.291</td>\n",
       "      <td>lightOn</td>\n",
       "      <td>10</td>\n",
       "      <td>Controller</td>\n",
       "      <td>ElectricityPower</td>\n",
       "      <td>lightOn</td>\n",
       "      <td>0</td>\n",
       "    </tr>\n",
       "    <tr>\n",
       "      <th>3</th>\n",
       "      <td>0.450</td>\n",
       "      <td>temperature:11</td>\n",
       "      <td>2</td>\n",
       "      <td>Thermostat</td>\n",
       "      <td>Controller</td>\n",
       "      <td>temperature</td>\n",
       "      <td>0</td>\n",
       "    </tr>\n",
       "    <tr>\n",
       "      <th>4</th>\n",
       "      <td>0.468</td>\n",
       "      <td>heaterOn</td>\n",
       "      <td>10</td>\n",
       "      <td>Controller</td>\n",
       "      <td>Heater</td>\n",
       "      <td>heaterOn</td>\n",
       "      <td>0</td>\n",
       "    </tr>\n",
       "    <tr>\n",
       "      <th>5</th>\n",
       "      <td>0.608</td>\n",
       "      <td>ElectricityLevelOfBulbs:9</td>\n",
       "      <td>4</td>\n",
       "      <td>ElectricySensor4Bulbs</td>\n",
       "      <td>Controller</td>\n",
       "      <td>ElectricityLevelOfBulbs</td>\n",
       "      <td>0</td>\n",
       "    </tr>\n",
       "    <tr>\n",
       "      <th>...</th>\n",
       "      <td>...</td>\n",
       "      <td>...</td>\n",
       "      <td>...</td>\n",
       "      <td>...</td>\n",
       "      <td>...</td>\n",
       "      <td>...</td>\n",
       "      <td>...</td>\n",
       "    </tr>\n",
       "    <tr>\n",
       "      <th>90014</th>\n",
       "      <td>28958.007</td>\n",
       "      <td>temperature:31.911001000933446</td>\n",
       "      <td>2</td>\n",
       "      <td>Thermostat</td>\n",
       "      <td>Controller</td>\n",
       "      <td>temperature</td>\n",
       "      <td>28958</td>\n",
       "    </tr>\n",
       "    <tr>\n",
       "      <th>90016</th>\n",
       "      <td>28959.017</td>\n",
       "      <td>brightnessLevel:90</td>\n",
       "      <td>1</td>\n",
       "      <td>LightSensor</td>\n",
       "      <td>Controller</td>\n",
       "      <td>brightnessLevel</td>\n",
       "      <td>28959</td>\n",
       "    </tr>\n",
       "    <tr>\n",
       "      <th>90017</th>\n",
       "      <td>28959.017</td>\n",
       "      <td>temperature:31.279120844796644</td>\n",
       "      <td>2</td>\n",
       "      <td>Thermostat</td>\n",
       "      <td>Controller</td>\n",
       "      <td>temperature</td>\n",
       "      <td>28959</td>\n",
       "    </tr>\n",
       "    <tr>\n",
       "      <th>90019</th>\n",
       "      <td>28960.008</td>\n",
       "      <td>brightnessLevel:90</td>\n",
       "      <td>1</td>\n",
       "      <td>LightSensor</td>\n",
       "      <td>Controller</td>\n",
       "      <td>brightnessLevel</td>\n",
       "      <td>28960</td>\n",
       "    </tr>\n",
       "    <tr>\n",
       "      <th>90020</th>\n",
       "      <td>28960.008</td>\n",
       "      <td>temperature:30.659752754066627</td>\n",
       "      <td>2</td>\n",
       "      <td>Thermostat</td>\n",
       "      <td>Controller</td>\n",
       "      <td>temperature</td>\n",
       "      <td>28960</td>\n",
       "    </tr>\n",
       "  </tbody>\n",
       "</table>\n",
       "<p>61060 rows × 7 columns</p>\n",
       "</div>"
      ],
      "text/plain": [
       "            time                      Command_v1  id                 Source  \\\n",
       "1          0.275              brightnessLevel:41   1            LightSensor   \n",
       "2          0.291                         lightOn  10             Controller   \n",
       "3          0.450                  temperature:11   2             Thermostat   \n",
       "4          0.468                        heaterOn  10             Controller   \n",
       "5          0.608       ElectricityLevelOfBulbs:9   4  ElectricySensor4Bulbs   \n",
       "...          ...                             ...  ..                    ...   \n",
       "90014  28958.007  temperature:31.911001000933446   2             Thermostat   \n",
       "90016  28959.017              brightnessLevel:90   1            LightSensor   \n",
       "90017  28959.017  temperature:31.279120844796644   2             Thermostat   \n",
       "90019  28960.008              brightnessLevel:90   1            LightSensor   \n",
       "90020  28960.008  temperature:30.659752754066627   2             Thermostat   \n",
       "\n",
       "            Destination               Command_v2  Time_integer  \n",
       "1            Controller          brightnessLevel             0  \n",
       "2      ElectricityPower                  lightOn             0  \n",
       "3            Controller              temperature             0  \n",
       "4                Heater                 heaterOn             0  \n",
       "5            Controller  ElectricityLevelOfBulbs             0  \n",
       "...                 ...                      ...           ...  \n",
       "90014        Controller              temperature         28958  \n",
       "90016        Controller          brightnessLevel         28959  \n",
       "90017        Controller              temperature         28959  \n",
       "90019        Controller          brightnessLevel         28960  \n",
       "90020        Controller              temperature         28960  \n",
       "\n",
       "[61060 rows x 7 columns]"
      ]
     },
     "execution_count": 4,
     "metadata": {},
     "output_type": "execute_result"
    }
   ],
   "source": [
    "data = preprocess_clustering.load_data(path=\"Data/NormalBehavior_events.log\")\n",
    "data"
   ]
  },
  {
   "cell_type": "code",
   "execution_count": 5,
   "metadata": {},
   "outputs": [
    {
     "data": {
      "text/plain": [
       "Command_v2\n",
       "brightnessLevel             28961\n",
       "temperature                 28961\n",
       "ElectricityLevelOfHeater      966\n",
       "ElectricityLevelOfBulbs       603\n",
       "heaterOn                      483\n",
       "heaterOff                     483\n",
       "lightOn                       302\n",
       "lightOff                      301\n",
       "Name: count, dtype: int64"
      ]
     },
     "execution_count": 5,
     "metadata": {},
     "output_type": "execute_result"
    }
   ],
   "source": [
    "data['Command_v2'].value_counts()"
   ]
  },
  {
   "cell_type": "code",
   "execution_count": 6,
   "metadata": {},
   "outputs": [
    {
     "data": {
      "text/html": [
       "<div>\n",
       "<style scoped>\n",
       "    .dataframe tbody tr th:only-of-type {\n",
       "        vertical-align: middle;\n",
       "    }\n",
       "\n",
       "    .dataframe tbody tr th {\n",
       "        vertical-align: top;\n",
       "    }\n",
       "\n",
       "    .dataframe thead th {\n",
       "        text-align: right;\n",
       "    }\n",
       "</style>\n",
       "<table border=\"1\" class=\"dataframe\">\n",
       "  <thead>\n",
       "    <tr style=\"text-align: right;\">\n",
       "      <th></th>\n",
       "      <th>index</th>\n",
       "      <th>Command_v2</th>\n",
       "      <th>tokenized_sents</th>\n",
       "    </tr>\n",
       "  </thead>\n",
       "  <tbody>\n",
       "    <tr>\n",
       "      <th>0</th>\n",
       "      <td>0</td>\n",
       "      <td>brightnessLevel lightOn temperature heaterOn E...</td>\n",
       "      <td>[brightnesslevel, lighton, temperature, heater...</td>\n",
       "    </tr>\n",
       "    <tr>\n",
       "      <th>1</th>\n",
       "      <td>1</td>\n",
       "      <td>brightnessLevel temperature</td>\n",
       "      <td>[brightnesslevel, temperature]</td>\n",
       "    </tr>\n",
       "    <tr>\n",
       "      <th>2</th>\n",
       "      <td>2</td>\n",
       "      <td>brightnessLevel lightOff ElectricityLevelOfBul...</td>\n",
       "      <td>[brightnesslevel, lightoff, electricitylevelof...</td>\n",
       "    </tr>\n",
       "    <tr>\n",
       "      <th>3</th>\n",
       "      <td>3</td>\n",
       "      <td>brightnessLevel temperature</td>\n",
       "      <td>[brightnesslevel, temperature]</td>\n",
       "    </tr>\n",
       "    <tr>\n",
       "      <th>4</th>\n",
       "      <td>4</td>\n",
       "      <td>brightnessLevel temperature</td>\n",
       "      <td>[brightnesslevel, temperature]</td>\n",
       "    </tr>\n",
       "    <tr>\n",
       "      <th>...</th>\n",
       "      <td>...</td>\n",
       "      <td>...</td>\n",
       "      <td>...</td>\n",
       "    </tr>\n",
       "    <tr>\n",
       "      <th>28956</th>\n",
       "      <td>28956</td>\n",
       "      <td>brightnessLevel temperature</td>\n",
       "      <td>[brightnesslevel, temperature]</td>\n",
       "    </tr>\n",
       "    <tr>\n",
       "      <th>28957</th>\n",
       "      <td>28957</td>\n",
       "      <td>brightnessLevel temperature</td>\n",
       "      <td>[brightnesslevel, temperature]</td>\n",
       "    </tr>\n",
       "    <tr>\n",
       "      <th>28958</th>\n",
       "      <td>28958</td>\n",
       "      <td>brightnessLevel temperature</td>\n",
       "      <td>[brightnesslevel, temperature]</td>\n",
       "    </tr>\n",
       "    <tr>\n",
       "      <th>28959</th>\n",
       "      <td>28959</td>\n",
       "      <td>brightnessLevel temperature</td>\n",
       "      <td>[brightnesslevel, temperature]</td>\n",
       "    </tr>\n",
       "    <tr>\n",
       "      <th>28960</th>\n",
       "      <td>28960</td>\n",
       "      <td>brightnessLevel temperature</td>\n",
       "      <td>[brightnesslevel, temperature]</td>\n",
       "    </tr>\n",
       "  </tbody>\n",
       "</table>\n",
       "<p>28961 rows × 3 columns</p>\n",
       "</div>"
      ],
      "text/plain": [
       "       index                                         Command_v2  \\\n",
       "0          0  brightnessLevel lightOn temperature heaterOn E...   \n",
       "1          1                        brightnessLevel temperature   \n",
       "2          2  brightnessLevel lightOff ElectricityLevelOfBul...   \n",
       "3          3                        brightnessLevel temperature   \n",
       "4          4                        brightnessLevel temperature   \n",
       "...      ...                                                ...   \n",
       "28956  28956                        brightnessLevel temperature   \n",
       "28957  28957                        brightnessLevel temperature   \n",
       "28958  28958                        brightnessLevel temperature   \n",
       "28959  28959                        brightnessLevel temperature   \n",
       "28960  28960                        brightnessLevel temperature   \n",
       "\n",
       "                                         tokenized_sents  \n",
       "0      [brightnesslevel, lighton, temperature, heater...  \n",
       "1                         [brightnesslevel, temperature]  \n",
       "2      [brightnesslevel, lightoff, electricitylevelof...  \n",
       "3                         [brightnesslevel, temperature]  \n",
       "4                         [brightnesslevel, temperature]  \n",
       "...                                                  ...  \n",
       "28956                     [brightnesslevel, temperature]  \n",
       "28957                     [brightnesslevel, temperature]  \n",
       "28958                     [brightnesslevel, temperature]  \n",
       "28959                     [brightnesslevel, temperature]  \n",
       "28960                     [brightnesslevel, temperature]  \n",
       "\n",
       "[28961 rows x 3 columns]"
      ]
     },
     "execution_count": 6,
     "metadata": {},
     "output_type": "execute_result"
    }
   ],
   "source": [
    "df = preprocess_clustering.prepration_data(data, 28960, 1)\n",
    "df"
   ]
  },
  {
   "cell_type": "code",
   "execution_count": 7,
   "metadata": {},
   "outputs": [],
   "source": [
    "command = list(df.tokenized_sents.values)"
   ]
  },
  {
   "cell_type": "code",
   "execution_count": 8,
   "metadata": {},
   "outputs": [],
   "source": [
    "max_sequence_length, vocab_size, encoder_input_data, decoder_input_data, decoder_target_data = anomalyDetection.prepare4Seq2Seq(command)"
   ]
  },
  {
   "cell_type": "markdown",
   "metadata": {},
   "source": [
    "# 2. Sequence to Sequence Model"
   ]
  },
  {
   "cell_type": "code",
   "execution_count": 9,
   "metadata": {},
   "outputs": [
    {
     "name": "stdout",
     "output_type": "stream",
     "text": [
      "Epoch 1/50\n",
      "724/724 [==============================] - 18s 17ms/step - loss: 0.1292 - accuracy: 0.9698 - val_loss: 0.0176 - val_accuracy: 0.9901\n",
      "Epoch 2/50\n",
      "724/724 [==============================] - 11s 15ms/step - loss: 0.0082 - accuracy: 0.9975 - val_loss: 0.0039 - val_accuracy: 0.9989\n",
      "Epoch 3/50\n",
      "724/724 [==============================] - 11s 15ms/step - loss: 0.0021 - accuracy: 0.9996 - val_loss: 5.5331e-04 - val_accuracy: 1.0000\n",
      "Epoch 4/50\n",
      "724/724 [==============================] - 11s 15ms/step - loss: 9.8714e-04 - accuracy: 0.9998 - val_loss: 8.4361e-04 - val_accuracy: 1.0000\n",
      "Epoch 5/50\n",
      "724/724 [==============================] - 15s 21ms/step - loss: 2.5141e-04 - accuracy: 1.0000 - val_loss: 1.4090e-04 - val_accuracy: 1.0000\n",
      "Epoch 6/50\n",
      "724/724 [==============================] - 11s 15ms/step - loss: 1.6219e-04 - accuracy: 1.0000 - val_loss: 1.1719e-04 - val_accuracy: 1.0000\n",
      "Epoch 7/50\n",
      "724/724 [==============================] - 11s 15ms/step - loss: 4.0864e-04 - accuracy: 0.9999 - val_loss: 0.0029 - val_accuracy: 0.9990\n",
      "Epoch 8/50\n",
      "724/724 [==============================] - 13s 17ms/step - loss: 1.4504e-04 - accuracy: 1.0000 - val_loss: 4.6243e-05 - val_accuracy: 1.0000\n",
      "Epoch 9/50\n",
      "724/724 [==============================] - 13s 18ms/step - loss: 3.5319e-05 - accuracy: 1.0000 - val_loss: 2.6907e-05 - val_accuracy: 1.0000\n",
      "Epoch 10/50\n",
      "724/724 [==============================] - 17s 23ms/step - loss: 2.2462e-05 - accuracy: 1.0000 - val_loss: 1.7827e-05 - val_accuracy: 1.0000\n",
      "Epoch 11/50\n",
      "724/724 [==============================] - 13s 18ms/step - loss: 1.5077e-05 - accuracy: 1.0000 - val_loss: 1.2127e-05 - val_accuracy: 1.0000\n",
      "Epoch 12/50\n",
      "724/724 [==============================] - 10s 14ms/step - loss: 1.0321e-05 - accuracy: 1.0000 - val_loss: 8.2739e-06 - val_accuracy: 1.0000\n",
      "Epoch 13/50\n",
      "724/724 [==============================] - 10s 14ms/step - loss: 7.0919e-06 - accuracy: 1.0000 - val_loss: 5.7482e-06 - val_accuracy: 1.0000\n",
      "Epoch 14/50\n",
      "724/724 [==============================] - 318s 440ms/step - loss: 4.8368e-06 - accuracy: 1.0000 - val_loss: 3.8727e-06 - val_accuracy: 1.0000\n",
      "Epoch 15/50\n",
      "724/724 [==============================] - 12s 16ms/step - loss: 3.3169e-06 - accuracy: 1.0000 - val_loss: 2.6491e-06 - val_accuracy: 1.0000\n",
      "Epoch 16/50\n",
      "724/724 [==============================] - 13s 18ms/step - loss: 2.2929e-06 - accuracy: 1.0000 - val_loss: 1.8124e-06 - val_accuracy: 1.0000\n",
      "Epoch 17/50\n",
      "724/724 [==============================] - 13s 19ms/step - loss: 1.5578e-06 - accuracy: 1.0000 - val_loss: 1.2281e-06 - val_accuracy: 1.0000\n",
      "Epoch 18/50\n",
      "724/724 [==============================] - 15s 21ms/step - loss: 1.0604e-06 - accuracy: 1.0000 - val_loss: 8.4687e-07 - val_accuracy: 1.0000\n",
      "Epoch 19/50\n",
      "724/724 [==============================] - 13s 18ms/step - loss: 7.4192e-07 - accuracy: 1.0000 - val_loss: 5.8973e-07 - val_accuracy: 1.0000\n",
      "Epoch 20/50\n",
      "724/724 [==============================] - 11s 15ms/step - loss: 5.1905e-07 - accuracy: 1.0000 - val_loss: 4.0955e-07 - val_accuracy: 1.0000\n",
      "Epoch 21/50\n",
      "724/724 [==============================] - 11s 15ms/step - loss: 3.6416e-07 - accuracy: 1.0000 - val_loss: 3.0018e-07 - val_accuracy: 1.0000\n",
      "Epoch 22/50\n",
      "724/724 [==============================] - 12s 17ms/step - loss: 2.6429e-07 - accuracy: 1.0000 - val_loss: 2.0435e-07 - val_accuracy: 1.0000\n",
      "Epoch 23/50\n",
      "724/724 [==============================] - 15s 21ms/step - loss: 1.8160e-07 - accuracy: 1.0000 - val_loss: 1.2979e-07 - val_accuracy: 1.0000\n",
      "Epoch 24/50\n",
      "724/724 [==============================] - 12s 16ms/step - loss: 1.1685e-07 - accuracy: 1.0000 - val_loss: 9.5877e-08 - val_accuracy: 1.0000\n",
      "Epoch 25/50\n",
      "724/724 [==============================] - 15s 20ms/step - loss: 8.5953e-08 - accuracy: 1.0000 - val_loss: 7.2093e-08 - val_accuracy: 1.0000\n",
      "Epoch 26/50\n",
      "724/724 [==============================] - 12s 16ms/step - loss: 6.3813e-08 - accuracy: 1.0000 - val_loss: 5.3001e-08 - val_accuracy: 1.0000\n",
      "Epoch 27/50\n",
      "724/724 [==============================] - 18s 25ms/step - loss: 4.7746e-08 - accuracy: 1.0000 - val_loss: 3.9152e-08 - val_accuracy: 1.0000\n",
      "Epoch 28/50\n",
      "724/724 [==============================] - 15s 21ms/step - loss: 3.5947e-08 - accuracy: 1.0000 - val_loss: 3.0472e-08 - val_accuracy: 1.0000\n",
      "Epoch 29/50\n",
      "724/724 [==============================] - 12s 17ms/step - loss: 2.7518e-08 - accuracy: 1.0000 - val_loss: 2.3414e-08 - val_accuracy: 1.0000\n",
      "Epoch 30/50\n",
      "724/724 [==============================] - 17s 23ms/step - loss: 2.1915e-08 - accuracy: 1.0000 - val_loss: 1.8899e-08 - val_accuracy: 1.0000\n",
      "Epoch 31/50\n",
      "724/724 [==============================] - 11s 15ms/step - loss: 1.7417e-08 - accuracy: 1.0000 - val_loss: 1.5088e-08 - val_accuracy: 1.0000\n",
      "Epoch 32/50\n",
      "724/724 [==============================] - 14s 19ms/step - loss: 1.4076e-08 - accuracy: 1.0000 - val_loss: 1.2285e-08 - val_accuracy: 1.0000\n",
      "Epoch 33/50\n",
      "724/724 [==============================] - 12s 17ms/step - loss: 1.1072e-08 - accuracy: 1.0000 - val_loss: 1.0038e-08 - val_accuracy: 1.0000\n",
      "Epoch 34/50\n",
      "724/724 [==============================] - 12s 16ms/step - loss: 9.3811e-09 - accuracy: 1.0000 - val_loss: 8.6346e-09 - val_accuracy: 1.0000\n",
      "Epoch 35/50\n",
      "724/724 [==============================] - 10s 14ms/step - loss: 7.7922e-09 - accuracy: 1.0000 - val_loss: 6.8772e-09 - val_accuracy: 1.0000\n",
      "Epoch 36/50\n",
      "724/724 [==============================] - 12s 16ms/step - loss: 6.6983e-09 - accuracy: 1.0000 - val_loss: 5.9471e-09 - val_accuracy: 1.0000\n",
      "Epoch 37/50\n",
      "724/724 [==============================] - 11s 15ms/step - loss: 5.7464e-09 - accuracy: 1.0000 - val_loss: 5.0910e-09 - val_accuracy: 1.0000\n",
      "Epoch 38/50\n",
      "724/724 [==============================] - 13s 18ms/step - loss: 5.0549e-09 - accuracy: 1.0000 - val_loss: 4.8235e-09 - val_accuracy: 1.0000\n",
      "Epoch 39/50\n",
      "724/724 [==============================] - 12s 16ms/step - loss: 4.4981e-09 - accuracy: 1.0000 - val_loss: 3.7411e-09 - val_accuracy: 1.0000\n",
      "Epoch 40/50\n",
      "724/724 [==============================] - 14s 20ms/step - loss: 3.5565e-09 - accuracy: 1.0000 - val_loss: 2.9674e-09 - val_accuracy: 1.0000\n",
      "Epoch 41/50\n",
      "724/724 [==============================] - 12s 16ms/step - loss: 3.1161e-09 - accuracy: 1.0000 - val_loss: 3.1279e-09 - val_accuracy: 1.0000\n",
      "Epoch 42/50\n",
      "724/724 [==============================] - 11s 15ms/step - loss: 2.8722e-09 - accuracy: 1.0000 - val_loss: 2.9962e-09 - val_accuracy: 1.0000\n",
      "Epoch 43/50\n",
      "724/724 [==============================] - 104s 143ms/step - loss: 2.6458e-09 - accuracy: 1.0000 - val_loss: 2.6669e-09 - val_accuracy: 1.0000\n",
      "Epoch 44/50\n",
      "724/724 [==============================] - 11s 16ms/step - loss: 2.3967e-09 - accuracy: 1.0000 - val_loss: 2.0907e-09 - val_accuracy: 1.0000\n",
      "Epoch 45/50\n",
      "724/724 [==============================] - 11s 15ms/step - loss: 2.2290e-09 - accuracy: 1.0000 - val_loss: 1.9590e-09 - val_accuracy: 1.0000\n",
      "Epoch 46/50\n",
      "724/724 [==============================] - 12s 17ms/step - loss: 2.0664e-09 - accuracy: 1.0000 - val_loss: 1.8932e-09 - val_accuracy: 1.0000\n",
      "Epoch 47/50\n",
      "724/724 [==============================] - 13s 18ms/step - loss: 1.9378e-09 - accuracy: 1.0000 - val_loss: 1.7697e-09 - val_accuracy: 1.0000\n",
      "Epoch 48/50\n",
      "724/724 [==============================] - 13s 17ms/step - loss: 1.8482e-09 - accuracy: 1.0000 - val_loss: 1.8068e-09 - val_accuracy: 1.0000\n",
      "Epoch 49/50\n",
      "724/724 [==============================] - 13s 18ms/step - loss: 1.6815e-09 - accuracy: 1.0000 - val_loss: 1.4487e-09 - val_accuracy: 1.0000\n",
      "Epoch 50/50\n",
      "724/724 [==============================] - 11s 15ms/step - loss: 1.5467e-09 - accuracy: 1.0000 - val_loss: 1.4322e-09 - val_accuracy: 1.0000\n"
     ]
    }
   ],
   "source": [
    "history, model = anomalyDetection.seq2seq(max_sequence_length, vocab_size, encoder_input_data, decoder_input_data, \n",
    "                                          decoder_target_data, 32, 64, 'softmax', \n",
    "                                         'sparse_categorical_crossentropy', 'accuracy', 50, 32, 0.2)"
   ]
  },
  {
   "cell_type": "code",
   "execution_count": 10,
   "metadata": {},
   "outputs": [
    {
     "data": {
      "image/png": "[encoded data removed]",
      "text/plain": [
       "<Figure size 800x600 with 1 Axes>"
      ]
     },
     "metadata": {},
     "output_type": "display_data"
    }
   ],
   "source": [
    "plots.valid_train_loss_plot(history, 'sparse categorical crossentropy Loss in Normal Data')"
   ]
  },
  {
   "cell_type": "code",
   "execution_count": 11,
   "metadata": {},
   "outputs": [
    {
     "data": {
      "image/png": "[encoded data removed]",
      "text/plain": [
       "<Figure size 800x600 with 1 Axes>"
      ]
     },
     "metadata": {},
     "output_type": "display_data"
    }
   ],
   "source": [
    "plots.valid_train_accuracy_plot(history, 'Accuracy in Normal Data')"
   ]
  },
  {
   "cell_type": "code",
   "execution_count": 12,
   "metadata": {},
   "outputs": [],
   "source": [
    "df_anomaly = data.drop(data.index[-1])\n",
    "df_anomaly = preprocess_clustering.prepration_data(df_anomaly, 28960, 1)\n",
    "command_anomaly = list(df_anomaly.tokenized_sents.values)\n",
    "command_anomaly[-1].append('null')"
   ]
  },
  {
   "cell_type": "code",
   "execution_count": 13,
   "metadata": {},
   "outputs": [
    {
     "data": {
      "text/plain": [
       "[['brightnesslevel', 'temperature'],\n",
       " ['brightnesslevel', 'temperature'],\n",
       " ['brightnesslevel', 'null']]"
      ]
     },
     "execution_count": 13,
     "metadata": {},
     "output_type": "execute_result"
    }
   ],
   "source": [
    "command_anomaly[-3:]"
   ]
  },
  {
   "cell_type": "code",
   "execution_count": 14,
   "metadata": {},
   "outputs": [
    {
     "name": "stdout",
     "output_type": "stream",
     "text": [
      "1/1 [==============================] - 3s 3s/step\n",
      "[['temperature'], ['temperature'], ['temperature']]\n"
     ]
    }
   ],
   "source": [
    "miss_command = anomalyDetection.predict_miss_sensor(command_anomaly[-3:], model, max_sequence_length)"
   ]
  }
 ],
 "metadata": {
  "kernelspec": {
   "display_name": "Python 3",
   "language": "python",
   "name": "python3"
  },
  "language_info": {
   "codemirror_mode": {
    "name": "ipython",
    "version": 3
   },
   "file_extension": ".py",
   "mimetype": "text/x-python",
   "name": "python",
   "nbconvert_exporter": "python",
   "pygments_lexer": "ipython3",
   "version": "3.11.4"
  },
  "orig_nbformat": 4
 },
 "nbformat": 4,
 "nbformat_minor": 2
}
